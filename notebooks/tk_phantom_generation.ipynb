{
 "cells": [
  {
   "cell_type": "code",
   "execution_count": 14,
   "metadata": {
    "collapsed": true
   },
   "outputs": [],
   "source": [
    "import json\n",
    "import numpy as np"
   ]
  },
  {
   "cell_type": "code",
   "execution_count": 15,
   "outputs": [],
   "source": [
    "example_config = \"../src/scripts/generate_cnn_phantom_example.json\""
   ],
   "metadata": {
    "collapsed": false,
    "pycharm": {
     "name": "#%%\n"
    }
   }
  },
  {
   "cell_type": "code",
   "execution_count": 25,
   "outputs": [],
   "source": [
    "with open(example_config, 'rb') as f:\n",
    "    config = json.load(f)"
   ],
   "metadata": {
    "collapsed": false,
    "pycharm": {
     "name": "#%%\n"
    }
   }
  },
  {
   "cell_type": "code",
   "execution_count": 26,
   "outputs": [],
   "source": [
    "config['phantom_args']['underdrawing_coverage'] = 0.02\n",
    "config['phantom_args']['number_samples']  = 246000 # same (492, 500, 32) in original igre (S=500)"
   ],
   "metadata": {
    "collapsed": false,
    "pycharm": {
     "name": "#%%\n"
    }
   }
  },
  {
   "cell_type": "markdown",
   "source": [
    "## Create 10 phantoms"
   ],
   "metadata": {
    "collapsed": false,
    "pycharm": {
     "name": "#%% md\n"
    }
   }
  },
  {
   "cell_type": "code",
   "execution_count": 39,
   "outputs": [],
   "source": [
    "for i in range(10):\n",
    "    config['phantom_args']['used_materials'] = [ int(i) for i in np.random.choice(30, 12, replace=False)]\n",
    "    with open(f'{i}_phantom.json', 'w') as f:\n",
    "        json.dump(config, f)"
   ],
   "metadata": {
    "collapsed": false,
    "pycharm": {
     "name": "#%%\n"
    }
   }
  },
  {
   "cell_type": "code",
   "execution_count": 34,
   "outputs": [
    {
     "data": {
      "text/plain": "{'pad': 1,\n 'extractor_args': {'vis_wildcard': '../../data/raw/phantoms/TIF.8bit_norm.255/Ch*_VIS_*.tif',\n  'nir_wildcard': '../../data/raw/phantoms/TIF.8bit_norm.255/Ch*_NIR_*.tif',\n  'mask_path': '../../data/raw/phantoms/bianco_mask.mat',\n  'mask_name': 'res_2d',\n  'padding': 6,\n  'max_value': 255.0},\n 'phantom_args': {'used_materials': [13,\n   0,\n   29,\n   12,\n   27,\n   2,\n   3,\n   24,\n   19,\n   20,\n   9,\n   1],\n  'underdrawing_coverage': 0.02,\n  'number_samples': 246000,\n  'seed': 42}}"
     },
     "execution_count": 34,
     "metadata": {},
     "output_type": "execute_result"
    }
   ],
   "source": [
    "config"
   ],
   "metadata": {
    "collapsed": false,
    "pycharm": {
     "name": "#%%\n"
    }
   }
  },
  {
   "cell_type": "code",
   "execution_count": null,
   "outputs": [],
   "source": [],
   "metadata": {
    "collapsed": false,
    "pycharm": {
     "name": "#%%\n"
    }
   }
  }
 ],
 "metadata": {
  "kernelspec": {
   "display_name": "Python 3",
   "language": "python",
   "name": "python3"
  },
  "language_info": {
   "codemirror_mode": {
    "name": "ipython",
    "version": 2
   },
   "file_extension": ".py",
   "mimetype": "text/x-python",
   "name": "python",
   "nbconvert_exporter": "python",
   "pygments_lexer": "ipython2",
   "version": "2.7.6"
  }
 },
 "nbformat": 4,
 "nbformat_minor": 0
}