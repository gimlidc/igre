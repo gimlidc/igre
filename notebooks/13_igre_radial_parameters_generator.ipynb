{
 "cells": [
  {
   "cell_type": "code",
   "execution_count": 1,
   "metadata": {},
   "outputs": [],
   "source": [
    "import numpy as np"
   ]
  },
  {
   "cell_type": "code",
   "execution_count": 3,
   "metadata": {},
   "outputs": [],
   "source": [
    "sampling = 50;\n",
    "a_range = 0.04;\n",
    "b_range = 0.04;\n",
    "c_range = 0.04;\n",
    "image_size = 600;\n",
    "\n",
    "result = [(0,0,0)];"
   ]
  },
  {
   "cell_type": "code",
   "execution_count": 4,
   "metadata": {},
   "outputs": [],
   "source": [
    "for i in np.linspace(-a_range, a_range, sampling):\n",
    "    for j in np.linspace(-b_range, b_range, sampling):\n",
    "        for k in np.linspace(-c_range, c_range, sampling):\n",
    "            L = 2 * i + 4 * j + 8 * k\n",
    "            diff = abs(L * image_size)\n",
    "            if diff < 5:\n",
    "                result.append((i,j,k))\n"
   ]
  },
  {
   "cell_type": "code",
   "execution_count": 6,
   "metadata": {},
   "outputs": [
    {
     "data": {
      "text/plain": [
       "3751"
      ]
     },
     "execution_count": 6,
     "metadata": {},
     "output_type": "execute_result"
    }
   ],
   "source": [
    "len(result)"
   ]
  },
  {
   "cell_type": "code",
   "execution_count": null,
   "metadata": {},
   "outputs": [],
   "source": []
  }
 ],
 "metadata": {
  "kernelspec": {
   "display_name": "Python 3",
   "language": "python",
   "name": "python3"
  },
  "language_info": {
   "codemirror_mode": {
    "name": "ipython",
    "version": 3
   },
   "file_extension": ".py",
   "mimetype": "text/x-python",
   "name": "python",
   "nbconvert_exporter": "python",
   "pygments_lexer": "ipython3",
   "version": "3.7.6"
  }
 },
 "nbformat": 4,
 "nbformat_minor": 4
}
