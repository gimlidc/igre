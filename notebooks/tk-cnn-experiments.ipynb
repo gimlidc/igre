{
 "cells": [
  {
   "cell_type": "code",
   "execution_count": 3,
   "outputs": [],
   "source": [
    "import json\n",
    "import tensorflow as tf\n",
    "import numpy as np\n",
    "from typing import Optional\n",
    "from src.models.ig_cnn import ig_cnn_model\n"
   ],
   "metadata": {
    "collapsed": false,
    "pycharm": {
     "name": "#%%\n"
    }
   }
  },
  {
   "cell_type": "code",
   "execution_count": 4,
   "outputs": [],
   "source": [
    "def gen_conv(filters:int, kernel_size:int, activation:Optional[str]=None, padding:Optional[str]=None):\n",
    "   _conv = f\"C-{filters}-{kernel_size}\"\n",
    "   if activation is not None:\n",
    "       _conv += f\"-{activation}\"\n",
    "   if padding is not None:\n",
    "       _conv += f\"-{padding}\"\n",
    "   return _conv\n",
    "\n",
    "def gen_dense(units: int, activation: Optional[str]=None):\n",
    "    _dense = f\"D-{units}\"\n",
    "    if  activation is not None:\n",
    "       _dense += f\"-{activation}\"\n",
    "    return _dense"
   ],
   "metadata": {
    "collapsed": false,
    "pycharm": {
     "name": "#%%\n"
    }
   }
  },
  {
   "cell_type": "markdown",
   "source": [
    "### Generate CNN configs"
   ],
   "metadata": {
    "collapsed": false
   }
  },
  {
   "cell_type": "code",
   "execution_count": 14,
   "outputs": [
    {
     "name": "stdout",
     "output_type": "stream",
     "text": [
      "Input 3\n",
      "C-10-3-sigmoid-valid (1, 1, 1)\n",
      "C-15-3-sigmoid-valid (1, 1, 1)\n",
      "C-25-3-sigmoid-valid (1, 1, 1)\n",
      "C-50-3-sigmoid-valid (1, 1, 1)\n",
      "C-10-3-relu-valid (1, 1, 1)\n",
      "C-15-3-relu-valid (1, 1, 1)\n",
      "C-25-3-relu-valid (1, 1, 1)\n",
      "C-50-3-relu-valid (1, 1, 1)\n",
      "Input 5\n",
      "C-10-3-sigmoid-valid,C-10-3-sigmoid-valid (1, 1, 1)\n",
      "C-10-5-sigmoid-valid (1, 1, 1)\n",
      "C-15-3-sigmoid-valid,C-15-3-sigmoid-valid (1, 1, 1)\n",
      "C-15-5-sigmoid-valid (1, 1, 1)\n",
      "C-25-3-sigmoid-valid,C-25-3-sigmoid-valid (1, 1, 1)\n",
      "C-25-5-sigmoid-valid (1, 1, 1)\n",
      "C-50-3-sigmoid-valid,C-50-3-sigmoid-valid (1, 1, 1)\n",
      "C-50-5-sigmoid-valid (1, 1, 1)\n",
      "C-10-3-relu-valid,C-10-3-relu-valid (1, 1, 1)\n",
      "C-10-5-relu-valid (1, 1, 1)\n",
      "C-15-3-relu-valid,C-15-3-relu-valid (1, 1, 1)\n",
      "C-15-5-relu-valid (1, 1, 1)\n",
      "C-25-3-relu-valid,C-25-3-relu-valid (1, 1, 1)\n",
      "C-25-5-relu-valid (1, 1, 1)\n",
      "C-50-3-relu-valid,C-50-3-relu-valid (1, 1, 1)\n",
      "C-50-5-relu-valid (1, 1, 1)\n",
      "Input 7\n",
      "C-10-3-sigmoid-valid,C-10-3-sigmoid-valid,C-10-3-sigmoid-valid (1, 1, 1)\n",
      "C-10-7-sigmoid-valid (1, 1, 1)\n",
      "C-15-3-sigmoid-valid,C-15-3-sigmoid-valid,C-15-3-sigmoid-valid (1, 1, 1)\n",
      "C-15-7-sigmoid-valid (1, 1, 1)\n",
      "C-25-3-sigmoid-valid,C-25-3-sigmoid-valid,C-25-3-sigmoid-valid (1, 1, 1)\n",
      "C-25-7-sigmoid-valid (1, 1, 1)\n",
      "C-50-3-sigmoid-valid,C-50-3-sigmoid-valid,C-50-3-sigmoid-valid (1, 1, 1)\n",
      "C-50-7-sigmoid-valid (1, 1, 1)\n",
      "C-10-3-relu-valid,C-10-3-relu-valid,C-10-3-relu-valid (1, 1, 1)\n",
      "C-10-7-relu-valid (1, 1, 1)\n",
      "C-15-3-relu-valid,C-15-3-relu-valid,C-15-3-relu-valid (1, 1, 1)\n",
      "C-15-7-relu-valid (1, 1, 1)\n",
      "C-25-3-relu-valid,C-25-3-relu-valid,C-25-3-relu-valid (1, 1, 1)\n",
      "C-25-7-relu-valid (1, 1, 1)\n",
      "C-50-3-relu-valid,C-50-3-relu-valid,C-50-3-relu-valid (1, 1, 1)\n",
      "C-50-7-relu-valid (1, 1, 1)\n",
      "Input 9\n",
      "C-10-3-sigmoid-valid,C-10-3-sigmoid-valid,C-10-3-sigmoid-valid,C-10-3-sigmoid-valid (1, 1, 1)\n",
      "C-10-5-sigmoid-valid,C-10-5-sigmoid-valid (1, 1, 1)\n",
      "C-10-9-sigmoid-valid (1, 1, 1)\n",
      "C-15-3-sigmoid-valid,C-15-3-sigmoid-valid,C-15-3-sigmoid-valid,C-15-3-sigmoid-valid (1, 1, 1)\n",
      "C-15-5-sigmoid-valid,C-15-5-sigmoid-valid (1, 1, 1)\n",
      "C-15-9-sigmoid-valid (1, 1, 1)\n",
      "C-25-3-sigmoid-valid,C-25-3-sigmoid-valid,C-25-3-sigmoid-valid,C-25-3-sigmoid-valid (1, 1, 1)\n",
      "C-25-5-sigmoid-valid,C-25-5-sigmoid-valid (1, 1, 1)\n",
      "C-25-9-sigmoid-valid (1, 1, 1)\n",
      "C-50-3-sigmoid-valid,C-50-3-sigmoid-valid,C-50-3-sigmoid-valid,C-50-3-sigmoid-valid (1, 1, 1)\n",
      "C-50-5-sigmoid-valid,C-50-5-sigmoid-valid (1, 1, 1)\n",
      "C-50-9-sigmoid-valid (1, 1, 1)\n",
      "C-10-3-relu-valid,C-10-3-relu-valid,C-10-3-relu-valid,C-10-3-relu-valid (1, 1, 1)\n",
      "C-10-5-relu-valid,C-10-5-relu-valid (1, 1, 1)\n",
      "C-10-9-relu-valid (1, 1, 1)\n",
      "C-15-3-relu-valid,C-15-3-relu-valid,C-15-3-relu-valid,C-15-3-relu-valid (1, 1, 1)\n",
      "C-15-5-relu-valid,C-15-5-relu-valid (1, 1, 1)\n",
      "C-15-9-relu-valid (1, 1, 1)\n",
      "C-25-3-relu-valid,C-25-3-relu-valid,C-25-3-relu-valid,C-25-3-relu-valid (1, 1, 1)\n",
      "C-25-5-relu-valid,C-25-5-relu-valid (1, 1, 1)\n",
      "C-25-9-relu-valid (1, 1, 1)\n",
      "C-50-3-relu-valid,C-50-3-relu-valid,C-50-3-relu-valid,C-50-3-relu-valid (1, 1, 1)\n",
      "C-50-5-relu-valid,C-50-5-relu-valid (1, 1, 1)\n",
      "C-50-9-relu-valid (1, 1, 1)\n"
     ]
    }
   ],
   "source": [
    "idx = 0\n",
    "for phantom_size in [3, 5, 7, 9]:\n",
    "    for activation in ['sigmoid', 'relu']:\n",
    "        for filters in [10, 15, 25, 50]:\n",
    "            for kernel in [3, 5, 7, 9]:\n",
    "                i = phantom_size\n",
    "                depth = 0\n",
    "                layers = \"\"\n",
    "                while i >= kernel:\n",
    "                    depth += 1\n",
    "                    i -= (kernel-np.floor(kernel/2.0))\n",
    "                    layers += f\"{gen_conv(filters, kernel, activation, padding='valid')},\"\n",
    "                    # Test if model is creatable\n",
    "                    model_def = f\"{layers}\"[:-1]\n",
    "                    model = ig_cnn_model(model_def, input_size=(phantom_size, phantom_size))\n",
    "                    model.compile(loss='mse')\n",
    "                    if model.output_shape[-3:] != (1,1,1):\n",
    "                        continue\n",
    "                    with open(f\"{idx}.json\", 'w') as file:\n",
    "                        config = dict(model_def=model_def,\n",
    "                                      activation=activation,\n",
    "                                      kernel=kernel,\n",
    "                                      filters=filters,\n",
    "                                      depth=depth,\n",
    "                                      phantom_size=phantom_size,\n",
    "                                      log_name=f'{phantom_size}/{model_def}/',\n",
    "                                      log_root='../logs_cnn/',\n",
    "                                      phantom_root=f'../data/phantoms/phantom_{phantom_size}_{phantom_size}/training',\n",
    "                                      phantom_file_wildcard=f'*_phantom_{phantom_size}_{phantom_size}.npz'\n",
    "                                 )\n",
    "                        json.dump(config, file)\n",
    "                    idx += 1"
   ],
   "metadata": {
    "collapsed": false,
    "pycharm": {
     "name": "#%%\n"
    }
   }
  },
  {
   "cell_type": "markdown",
   "source": [
    "### Generate Baseline configs"
   ],
   "metadata": {
    "collapsed": false,
    "pycharm": {
     "name": "#%% md\n"
    }
   }
  },
  {
   "cell_type": "code",
   "execution_count": null,
   "outputs": [],
   "source": [
    "idx = 0\n",
    "for phantom_size in [3, 5]:\n",
    "    # Test if model is creatable\n",
    "    model_def = f'dense_baseline_{phantom_size}'\n",
    "    with open(f\"baseline_{phantom_size}.json\", 'w') as file:\n",
    "        config = dict(model_def=model_def,\n",
    "                      phantom_size=phantom_size,\n",
    "                      log_name=f'{phantom_size}/baseline/',\n",
    "                      log_root='../logs/',\n",
    "                      phantom_root=f'../data/phantoms/phantom_{phantom_size}_{phantom_size}/training',\n",
    "                      phantom_file_wildcard=f'*_phantom_{phantom_size}_{phantom_size}.npz'\n",
    "                 )\n",
    "        json.dump(config, file)\n",
    "    idx += 1"
   ],
   "metadata": {
    "collapsed": false,
    "pycharm": {
     "name": "#%%\n"
    }
   }
  },
  {
   "cell_type": "markdown",
   "source": [
    "Results"
   ],
   "metadata": {
    "collapsed": false
   }
  },
  {
   "cell_type": "code",
   "execution_count": null,
   "outputs": [],
   "source": [
    "import pandas as pd\n",
    "import plotly.express as px\n",
    "from glob import glob"
   ],
   "metadata": {
    "collapsed": false,
    "pycharm": {
     "name": "#%%\n"
    }
   }
  },
  {
   "cell_type": "code",
   "execution_count": null,
   "outputs": [],
   "source": [
    "df = pd.concat([pd.read_csv(f) for f in glob(\"*.csv\")])\n",
    "df.shape"
   ],
   "metadata": {
    "collapsed": false,
    "pycharm": {
     "name": "#%%\n"
    }
   }
  },
  {
   "cell_type": "code",
   "execution_count": null,
   "outputs": [],
   "source": [
    "df.groupby(['model_def', 'phantom_size'])\n",
    "df = df.rename(columns={'Information Gain valid': 'ig_max_valid',\n",
    "                        'Information Gain valid.1': 'ig_mean_valid',\n",
    "                        'Information Gain train': 'ig_max_train',\n",
    "                        'Information Gain train.1': 'ig_mean_train',\n",
    "                        'epoch_loss.1': 'mse_valid'})"
   ],
   "metadata": {
    "collapsed": false,
    "pycharm": {
     "name": "#%%\n"
    }
   }
  },
  {
   "cell_type": "code",
   "execution_count": null,
   "outputs": [],
   "source": [
    "df.columns"
   ],
   "metadata": {
    "collapsed": false,
    "pycharm": {
     "name": "#%%\n"
    }
   }
  },
  {
   "cell_type": "code",
   "execution_count": null,
   "outputs": [],
   "source": [
    "df = df.astype({'phantom_size': 'int32',\n",
    "                'kernel': 'int32',\n",
    "                'phantom_sample': 'int32',\n",
    "                'depth': 'int32',\n",
    "                'filters': 'int32'})"
   ],
   "metadata": {
    "collapsed": false,
    "pycharm": {
     "name": "#%%\n"
    }
   }
  },
  {
   "cell_type": "code",
   "execution_count": null,
   "outputs": [],
   "source": [
    "(\n",
    "    df\n",
    "        .drop(columns=['log_root',\n",
    "                       'phantom_file_wildcard',\n",
    "                       'phantom_root',\n",
    "                       'log_name',\n",
    "                       'epoch_mean_squared_error',\n",
    "                       'epoch_mean_squared_error.1',\n",
    "                       'phantom_sample'])\n",
    "        .groupby(['model_def', 'phantom_size'])\n",
    "        .mean()\n",
    ").sort_values('mse_valid').to_csv('test.csv')"
   ],
   "metadata": {
    "collapsed": false,
    "pycharm": {
     "name": "#%%\n"
    }
   }
  },
  {
   "cell_type": "code",
   "execution_count": null,
   "outputs": [],
   "source": [
    "df.groupby"
   ],
   "metadata": {
    "collapsed": false,
    "pycharm": {
     "name": "#%%\n"
    }
   }
  },
  {
   "cell_type": "code",
   "execution_count": null,
   "outputs": [],
   "source": [
    "px.box(df, x='model_def', y='mse_valid', color='phantom_size')"
   ],
   "metadata": {
    "collapsed": false,
    "pycharm": {
     "name": "#%%\n"
    }
   }
  },
  {
   "cell_type": "code",
   "execution_count": null,
   "outputs": [],
   "source": [
    "df[['kernel', 'phantom_sample', ]]"
   ],
   "metadata": {
    "collapsed": false,
    "pycharm": {
     "name": "#%%\n"
    }
   }
  },
  {
   "cell_type": "code",
   "execution_count": null,
   "outputs": [],
   "source": [
    "df['phantom_size']"
   ],
   "metadata": {
    "collapsed": false,
    "pycharm": {
     "name": "#%%\n"
    }
   }
  },
  {
   "cell_type": "code",
   "execution_count": null,
   "outputs": [],
   "source": [],
   "metadata": {
    "collapsed": false,
    "pycharm": {
     "name": "#%%\n"
    }
   }
  },
  {
   "cell_type": "code",
   "execution_count": null,
   "outputs": [],
   "source": [
    "df = df.astype({'phantom_size': 'int32',\n",
    "                'kernel': 'int32',\n",
    "                'phantom_sample': 'int32',\n",
    "                'depth': 'int32',\n",
    "                'filters': 'int32'})"
   ],
   "metadata": {
    "collapsed": false,
    "pycharm": {
     "name": "#%%\n"
    }
   }
  },
  {
   "cell_type": "code",
   "execution_count": null,
   "outputs": [],
   "source": [
    "(\n",
    "    df\n",
    "        .drop(columns=['log_root',\n",
    "                       'phantom_file_wildcard',\n",
    "                       'phantom_root',\n",
    "                       'log_name',\n",
    "                       'epoch_mean_squared_error',\n",
    "                       'epoch_mean_squared_error.1',\n",
    "                       'phantom_sample'])\n",
    "        .groupby(['model_def', 'phantom_size'])\n",
    "        .mean()\n",
    ").sort_values('mse_valid')"
   ],
   "metadata": {
    "collapsed": false,
    "pycharm": {
     "name": "#%%\n"
    }
   }
  },
  {
   "cell_type": "code",
   "execution_count": null,
   "outputs": [],
   "source": [
    "df.groupby"
   ],
   "metadata": {
    "collapsed": false,
    "pycharm": {
     "name": "#%%\n"
    }
   }
  },
  {
   "cell_type": "code",
   "execution_count": null,
   "outputs": [],
   "source": [
    "px.box(df, x='model_def', y='mse_valid', color='phantom_size')"
   ],
   "metadata": {
    "collapsed": false,
    "pycharm": {
     "name": "#%%\n"
    }
   }
  },
  {
   "cell_type": "code",
   "execution_count": null,
   "outputs": [],
   "source": [
    "df[['kernel', 'phantom_sample', ]]"
   ],
   "metadata": {
    "collapsed": false,
    "pycharm": {
     "name": "#%%\n"
    }
   }
  },
  {
   "cell_type": "code",
   "execution_count": null,
   "outputs": [],
   "source": [
    "df['phantom_size']"
   ],
   "metadata": {
    "collapsed": false,
    "pycharm": {
     "name": "#%%\n"
    }
   }
  },
  {
   "cell_type": "code",
   "execution_count": null,
   "outputs": [],
   "source": [],
   "metadata": {
    "collapsed": false,
    "pycharm": {
     "name": "#%%\n"
    }
   }
  }
 ],
 "metadata": {
  "kernelspec": {
   "display_name": "Python 3",
   "language": "python",
   "name": "python3"
  },
  "language_info": {
   "codemirror_mode": {
    "name": "ipython",
    "version": 2
   },
   "file_extension": ".py",
   "mimetype": "text/x-python",
   "name": "python",
   "nbconvert_exporter": "python",
   "pygments_lexer": "ipython2",
   "version": "2.7.6"
  }
 },
 "nbformat": 4,
 "nbformat_minor": 0
}