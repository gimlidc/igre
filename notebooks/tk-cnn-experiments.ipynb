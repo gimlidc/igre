{
 "cells": [
  {
   "cell_type": "code",
   "execution_count": 3,
   "outputs": [],
   "source": [
    "import json\n",
    "import tensorflow as tf\n",
    "import numpy as np\n",
    "from typing import Optional\n",
    "from src.models.ig_cnn import ig_cnn_model\n"
   ],
   "metadata": {
    "collapsed": false,
    "pycharm": {
     "name": "#%%\n"
    }
   }
  },
  {
   "cell_type": "code",
   "execution_count": 4,
   "outputs": [],
   "source": [
    "def gen_conv(filters:int, kernel_size:int, activation:Optional[str]=None, padding:Optional[str]=None):\n",
    "   _conv = f\"C-{filters}-{kernel_size}\"\n",
    "   if activation is not None:\n",
    "       _conv += f\"-{activation}\"\n",
    "   if padding is not None:\n",
    "       _conv += f\"-{padding}\"\n",
    "   return _conv\n",
    "\n",
    "def gen_dense(units: int, activation: Optional[str]=None):\n",
    "    _dense = f\"D-{units}\"\n",
    "    if  activation is not None:\n",
    "       _dense += f\"-{activation}\"\n",
    "    return _dense"
   ],
   "metadata": {
    "collapsed": false,
    "pycharm": {
     "name": "#%%\n"
    }
   }
  },
  {
   "cell_type": "markdown",
   "source": [
    "### Generate configs"
   ],
   "metadata": {
    "collapsed": false
   }
  },
  {
   "cell_type": "code",
   "execution_count": 5,
   "outputs": [
    {
     "name": "stdout",
     "output_type": "stream",
     "text": [
      "Input 3\n"
     ]
    }
   ],
   "source": [
    "idx = 0\n",
    "for phantom_size in [3, 5]: # 7]:\n",
    "    print(f\"Input {phantom_size}\")\n",
    "    for activation in ['sigmoid', 'relu']:\n",
    "        for filters in [10, 15, 25, 50]:\n",
    "            for kernel in [3, 5, 7]:\n",
    "                i = phantom_size\n",
    "                depth = 0\n",
    "                layers = \"\"\n",
    "                while i >= kernel:\n",
    "                    depth += 1\n",
    "                    i -= (kernel-np.floor(kernel/2.0))\n",
    "                    layers += f\"{gen_conv(filters, kernel, activation, padding='valid')},\"\n",
    "                    # Test if model is creatable\n",
    "                    model_def = f\"{layers}F\"\n",
    "                    model = ig_cnn_model(model_def, input_size=(phantom_size, phantom_size))\n",
    "                    model.compile(loss='mse')\n",
    "                    with open(f\"{idx}.json\", 'w') as file:\n",
    "                        config = dict(model_def=model_def,\n",
    "                                      activation=activation,\n",
    "                                      kernel=kernel,\n",
    "                                      filters=filters,\n",
    "                                      depth=depth,\n",
    "                                      phantom_size=phantom_size,\n",
    "                                      log_name=f'{phantom_size}/{model_def}/',\n",
    "                                      log_root='../logs/',\n",
    "                                      phantom_root=f'../data/phantoms/phantom_{phantom_size}_{phantom_size}/training',\n",
    "                                      phantom_file_wildcard=f'*_phantom_{phantom_size}_{phantom_size}.npz'\n",
    "                                 )\n",
    "                        json.dump(config, file)\n",
    "                    idx += 1"
   ],
   "metadata": {
    "collapsed": false,
    "pycharm": {
     "name": "#%%\n"
    }
   }
  },
  {
   "cell_type": "code",
   "execution_count": 17,
   "outputs": [],
   "source": [],
   "metadata": {
    "collapsed": false,
    "pycharm": {
     "name": "#%%\n"
    }
   }
  },
  {
   "cell_type": "markdown",
   "source": [
    "### Generate configs"
   ],
   "metadata": {
    "collapsed": false,
    "pycharm": {
     "name": "#%% md\n"
    }
   }
  },
  {
   "cell_type": "code",
   "execution_count": 26,
   "outputs": [
    {
     "name": "stdout",
     "output_type": "stream",
     "text": [
      "Input 3\n"
     ]
    }
   ],
   "source": [
    "idx = 0\n",
    "for phantom_size in [3]: #, 5, 7]:\n",
    "    print(f\"Input {phantom_size}\")\n",
    "    for activation in ['sigmoid', 'relu']:\n",
    "        for filters in [10, 15, 25, 50]:\n",
    "            for kernel in [3, 5, 7]:\n",
    "                i = phantom_size\n",
    "                depth = 0\n",
    "                layers = \"\"\n",
    "                while i >= kernel:\n",
    "                    depth += 1\n",
    "                    i -= (kernel-np.floor(kernel/2.0))\n",
    "                    layers += f\"{gen_conv(filters, kernel, activation, padding='valid')},\"\n",
    "                    # Test if model is creatable\n",
    "                    model_def = f\"{layers}F\"\n",
    "                    model = ig_cnn_model(model_def, input_size=(phantom_size, phantom_size))\n",
    "                    model.compile(loss='mse')\n",
    "                    with open(f\"{idx}.json\", 'w') as file:\n",
    "                        config = dict(model_def=model_def,\n",
    "                                      activation=activation,\n",
    "                                      kernel=kernel,\n",
    "                                      filters=filters,\n",
    "                                      depth=depth,\n",
    "                                      phantom_size=phantom_size,\n",
    "                                      log_name=f'{phantom_size}/{model_def}/',\n",
    "                                      log_root='../logs/',\n",
    "                                      phantom_root=f'../data/phantoms/phantom_{phantom_size}_{phantom_size}/training',\n",
    "                                      phantom_file_wildcard=f'*_phantom_{phantom_size}_{phantom_size}.npz'\n",
    "                                 )\n",
    "                        json.dump(config, file)"
   ],
   "metadata": {
    "collapsed": false,
    "pycharm": {
     "name": "#%%\n"
    }
   }
  },
  {
   "cell_type": "code",
   "execution_count": 5,
   "outputs": [],
   "source": [],
   "metadata": {
    "collapsed": false,
    "pycharm": {
     "name": "#%%\n"
    }
   }
  }
 ],
 "metadata": {
  "kernelspec": {
   "display_name": "Python 3",
   "language": "python",
   "name": "python3"
  },
  "language_info": {
   "codemirror_mode": {
    "name": "ipython",
    "version": 2
   },
   "file_extension": ".py",
   "mimetype": "text/x-python",
   "name": "python",
   "nbconvert_exporter": "python",
   "pygments_lexer": "ipython2",
   "version": "2.7.6"
  }
 },
 "nbformat": 4,
 "nbformat_minor": 0
}