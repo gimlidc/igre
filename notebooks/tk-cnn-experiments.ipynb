{
 "cells": [
  {
   "cell_type": "code",
   "execution_count": 28,
   "outputs": [],
   "source": [
    "import json\n",
    "import tensorflow as tf\n",
    "import numpy as np\n",
    "from typing import Optional\n",
    "from src.models.ig_cnn import ig_cnn_model\n"
   ],
   "metadata": {
    "collapsed": false,
    "pycharm": {
     "name": "#%%\n"
    }
   }
  },
  {
   "cell_type": "code",
   "execution_count": 7,
   "outputs": [],
   "source": [
    "def gen_conv(filters:int, kernel_size:int, activation:Optional[str]=None, padding:Optional[str]=None):\n",
    "   _conv = f\"C-{filters}-{kernel_size}\"\n",
    "   if activation is not None:\n",
    "       _conv += f\"-{activation}\"\n",
    "   if padding is not None:\n",
    "       _conv += f\"-{padding}\"\n",
    "   return _conv\n",
    "\n",
    "def gen_dense(units: int, activation: Optional[str]=None):\n",
    "    _dense = f\"D-{units}\"\n",
    "    if  activation is not None:\n",
    "       _dense += f\"-{activation}\"\n",
    "    return _dense"
   ],
   "metadata": {
    "collapsed": false,
    "pycharm": {
     "name": "#%%\n"
    }
   }
  },
  {
   "cell_type": "markdown",
   "source": [
    "### Generate CNN configs"
   ],
   "metadata": {
    "collapsed": false
   }
  },
  {
   "cell_type": "code",
   "execution_count": 8,
   "outputs": [
    {
     "name": "stdout",
     "output_type": "stream",
     "text": [
      "Input 3\n",
      "Input 5\n"
     ]
    }
   ],
   "source": [
    "idx = 0\n",
    "for phantom_size in [3, 5]: # 7]:\n",
    "    print(f\"Input {phantom_size}\")\n",
    "    for activation in ['sigmoid', 'relu']:\n",
    "        for filters in [10, 15, 25, 50]:\n",
    "            for kernel in [3, 5, 7]:\n",
    "                i = phantom_size\n",
    "                depth = 0\n",
    "                layers = \"\"\n",
    "                while i >= kernel:\n",
    "                    depth += 1\n",
    "                    i -= (kernel-np.floor(kernel/2.0))\n",
    "                    layers += f\"{gen_conv(filters, kernel, activation, padding='valid')},\"\n",
    "                    # Test if model is creatable\n",
    "                    model_def = f\"{layers}F\"\n",
    "                    model = ig_cnn_model(model_def, input_size=(phantom_size, phantom_size))\n",
    "                    model.compile(loss='mse')\n",
    "                    with open(f\"{idx}.json\", 'w') as file:\n",
    "                        config = dict(model_def=model_def,\n",
    "                                      activation=activation,\n",
    "                                      kernel=kernel,\n",
    "                                      filters=filters,\n",
    "                                      depth=depth,\n",
    "                                      phantom_size=phantom_size,\n",
    "                                      log_name=f'{phantom_size}/{model_def}/',\n",
    "                                      log_root='../logs/',\n",
    "                                      phantom_root=f'../data/phantoms/phantom_{phantom_size}_{phantom_size}/training',\n",
    "                                      phantom_file_wildcard=f'*_phantom_{phantom_size}_{phantom_size}.npz'\n",
    "                                 )\n",
    "                        json.dump(config, file)\n",
    "                    idx += 1"
   ],
   "metadata": {
    "collapsed": false,
    "pycharm": {
     "name": "#%%\n"
    }
   }
  },
  {
   "cell_type": "markdown",
   "source": [
    "### Generate Baseline configs"
   ],
   "metadata": {
    "collapsed": false,
    "pycharm": {
     "name": "#%% md\n"
    }
   }
  },
  {
   "cell_type": "code",
   "execution_count": 31,
   "outputs": [],
   "source": [
    "idx = 0\n",
    "for phantom_size in [3, 5]:\n",
    "    # Test if model is creatable\n",
    "    model_def = f'dense_baseline_{phantom_size}'\n",
    "    with open(f\"baseline_{phantom_size}.json\", 'w') as file:\n",
    "        config = dict(model_def=model_def,\n",
    "                      phantom_size=phantom_size,\n",
    "                      log_name=f'{phantom_size}/baseline/',\n",
    "                      log_root='../logs/',\n",
    "                      phantom_root=f'../data/phantoms/phantom_{phantom_size}_{phantom_size}/training',\n",
    "                      phantom_file_wildcard=f'*_phantom_{phantom_size}_{phantom_size}.npz'\n",
    "                 )\n",
    "        json.dump(config, file)\n",
    "    idx += 1"
   ],
   "metadata": {
    "collapsed": false,
    "pycharm": {
     "name": "#%%\n"
    }
   }
  },
  {
   "cell_type": "markdown",
   "source": [
    "Results"
   ],
   "metadata": {
    "collapsed": false
   }
  },
  {
   "cell_type": "code",
   "execution_count": null,
   "outputs": [],
   "source": [
    "import pandas as pd"
   ],
   "metadata": {
    "collapsed": false,
    "pycharm": {
     "name": "#%%\n"
    }
   }
  },
  {
   "cell_type": "code",
   "execution_count": 22,
   "outputs": [
    {
     "data": {
      "text/plain": "<pandas.core.groupby.generic.DataFrameGroupBy object at 0x7f120fec47f0>"
     },
     "execution_count": 22,
     "metadata": {},
     "output_type": "execute_result"
    }
   ],
   "source": [
    "df = pd.read_csv('hparams_table.csv')\n",
    "df.groupby(['model_def', 'phantom_size'])"
   ],
   "metadata": {
    "collapsed": false,
    "pycharm": {
     "name": "#%%\n"
    }
   }
  },
  {
   "cell_type": "code",
   "execution_count": 26,
   "outputs": [
    {
     "data": {
      "text/plain": "                                                         ig_max_valid  \\\n                                                                 mean   \nmodel_def                                   phantom_size                \nC-10-3-relu-valid,C-10-3-relu-valid,F       5.0              0.299669   \nC-10-3-relu-valid,F                         3.0              0.324549   \n                                            5.0              0.310608   \nC-10-3-sigmoid-valid,C-10-3-sigmoid-valid,F 5.0              0.284301   \nC-10-3-sigmoid-valid,F                      3.0              0.291812   \n                                            5.0              0.313462   \nC-10-5-relu-valid,F                         5.0              0.304839   \nC-10-5-sigmoid-valid,F                      5.0              0.309827   \nC-15-3-relu-valid,C-15-3-relu-valid,F       5.0              0.276457   \nC-15-3-relu-valid,F                         3.0              0.288449   \n                                            5.0              0.297855   \nC-15-3-sigmoid-valid,C-15-3-sigmoid-valid,F 5.0              0.275681   \nC-15-3-sigmoid-valid,F                      3.0              0.287962   \n                                            5.0              0.305602   \nC-15-5-relu-valid,F                         5.0              0.301777   \nC-15-5-sigmoid-valid,F                      5.0              0.302920   \nC-25-3-relu-valid,C-25-3-relu-valid,F       5.0              0.251965   \nC-25-3-relu-valid,F                         3.0              0.282944   \n                                            5.0              0.287415   \nC-25-3-sigmoid-valid,C-25-3-sigmoid-valid,F 5.0              0.272152   \nC-25-3-sigmoid-valid,F                      3.0              0.296784   \n                                            5.0              0.302478   \nC-25-5-relu-valid,F                         5.0              0.302182   \nC-25-5-sigmoid-valid,F                      5.0              0.303393   \nC-50-3-relu-valid,C-50-3-relu-valid,F       5.0              0.276533   \nC-50-3-relu-valid,F                         3.0              0.270527   \n                                            5.0              0.282089   \nC-50-3-sigmoid-valid,C-50-3-sigmoid-valid,F 5.0              0.271588   \nC-50-3-sigmoid-valid,F                      3.0              0.293388   \n                                            5.0              0.300167   \nC-50-5-relu-valid,F                         5.0              0.300778   \nC-50-5-sigmoid-valid,F                      5.0              0.296331   \n\n                                                                              \\\n                                                               std    median   \nmodel_def                                   phantom_size                       \nC-10-3-relu-valid,C-10-3-relu-valid,F       5.0           0.087406  0.320398   \nC-10-3-relu-valid,F                         3.0           0.084814  0.323633   \n                                            5.0           0.085954  0.321780   \nC-10-3-sigmoid-valid,C-10-3-sigmoid-valid,F 5.0           0.072453  0.300132   \nC-10-3-sigmoid-valid,F                      3.0           0.081829  0.312518   \n                                            5.0           0.092333  0.332465   \nC-10-5-relu-valid,F                         5.0           0.074567  0.329762   \nC-10-5-sigmoid-valid,F                      5.0           0.084064  0.311352   \nC-15-3-relu-valid,C-15-3-relu-valid,F       5.0           0.068310  0.284423   \nC-15-3-relu-valid,F                         3.0           0.075780  0.290756   \n                                            5.0           0.081476  0.295248   \nC-15-3-sigmoid-valid,C-15-3-sigmoid-valid,F 5.0           0.070468  0.270719   \nC-15-3-sigmoid-valid,F                      3.0           0.085514  0.304237   \n                                            5.0           0.095199  0.303558   \nC-15-5-relu-valid,F                         5.0           0.082657  0.314247   \nC-15-5-sigmoid-valid,F                      5.0           0.077750  0.313415   \nC-25-3-relu-valid,C-25-3-relu-valid,F       5.0           0.063215  0.271346   \nC-25-3-relu-valid,F                         3.0           0.067488  0.302622   \n                                            5.0           0.085600  0.298487   \nC-25-3-sigmoid-valid,C-25-3-sigmoid-valid,F 5.0           0.063731  0.300221   \nC-25-3-sigmoid-valid,F                      3.0           0.078880  0.320697   \n                                            5.0           0.092370  0.309366   \nC-25-5-relu-valid,F                         5.0           0.083982  0.316487   \nC-25-5-sigmoid-valid,F                      5.0           0.077999  0.311079   \nC-50-3-relu-valid,C-50-3-relu-valid,F       5.0           0.068077  0.281699   \nC-50-3-relu-valid,F                         3.0           0.064904  0.283188   \n                                            5.0           0.082002  0.290448   \nC-50-3-sigmoid-valid,C-50-3-sigmoid-valid,F 5.0           0.067932  0.288279   \nC-50-3-sigmoid-valid,F                      3.0           0.082691  0.311371   \n                                            5.0           0.088046  0.299352   \nC-50-5-relu-valid,F                         5.0           0.078786  0.318917   \nC-50-5-sigmoid-valid,F                      5.0           0.082534  0.310750   \n\n                                                         ig_mean_valid  \\\n                                                                  mean   \nmodel_def                                   phantom_size                 \nC-10-3-relu-valid,C-10-3-relu-valid,F       5.0               0.016933   \nC-10-3-relu-valid,F                         3.0               0.018621   \n                                            5.0               0.018081   \nC-10-3-sigmoid-valid,C-10-3-sigmoid-valid,F 5.0               0.016414   \nC-10-3-sigmoid-valid,F                      3.0               0.017508   \n                                            5.0               0.017741   \nC-10-5-relu-valid,F                         5.0               0.018606   \nC-10-5-sigmoid-valid,F                      5.0               0.017222   \nC-15-3-relu-valid,C-15-3-relu-valid,F       5.0               0.016751   \nC-15-3-relu-valid,F                         3.0               0.018930   \n                                            5.0               0.017742   \nC-15-3-sigmoid-valid,C-15-3-sigmoid-valid,F 5.0               0.016492   \nC-15-3-sigmoid-valid,F                      3.0               0.017727   \n                                            5.0               0.017470   \nC-15-5-relu-valid,F                         5.0               0.018963   \nC-15-5-sigmoid-valid,F                      5.0               0.016947   \nC-25-3-relu-valid,C-25-3-relu-valid,F       5.0               0.016585   \nC-25-3-relu-valid,F                         3.0               0.017836   \n                                            5.0               0.016989   \nC-25-3-sigmoid-valid,C-25-3-sigmoid-valid,F 5.0               0.016194   \nC-25-3-sigmoid-valid,F                      3.0               0.017255   \n                                            5.0               0.018002   \nC-25-5-relu-valid,F                         5.0               0.017980   \nC-25-5-sigmoid-valid,F                      5.0               0.017457   \nC-50-3-relu-valid,C-50-3-relu-valid,F       5.0               0.016528   \nC-50-3-relu-valid,F                         3.0               0.017791   \n                                            5.0               0.016927   \nC-50-3-sigmoid-valid,C-50-3-sigmoid-valid,F 5.0               0.015656   \nC-50-3-sigmoid-valid,F                      3.0               0.017415   \n                                            5.0               0.017284   \nC-50-5-relu-valid,F                         5.0               0.017872   \nC-50-5-sigmoid-valid,F                      5.0               0.017427   \n\n                                                                              \\\n                                                               std    median   \nmodel_def                                   phantom_size                       \nC-10-3-relu-valid,C-10-3-relu-valid,F       5.0           0.000687  0.017111   \nC-10-3-relu-valid,F                         3.0           0.002061  0.018420   \n                                            5.0           0.001780  0.017978   \nC-10-3-sigmoid-valid,C-10-3-sigmoid-valid,F 5.0           0.001191  0.016209   \nC-10-3-sigmoid-valid,F                      3.0           0.001272  0.017302   \n                                            5.0           0.001802  0.017081   \nC-10-5-relu-valid,F                         5.0           0.001776  0.019393   \nC-10-5-sigmoid-valid,F                      5.0           0.001291  0.017228   \nC-15-3-relu-valid,C-15-3-relu-valid,F       5.0           0.001458  0.016703   \nC-15-3-relu-valid,F                         3.0           0.002759  0.018874   \n                                            5.0           0.001025  0.017722   \nC-15-3-sigmoid-valid,C-15-3-sigmoid-valid,F 5.0           0.001577  0.015998   \nC-15-3-sigmoid-valid,F                      3.0           0.001488  0.017539   \n                                            5.0           0.001912  0.016910   \nC-15-5-relu-valid,F                         5.0           0.002237  0.018250   \nC-15-5-sigmoid-valid,F                      5.0           0.001222  0.017428   \nC-25-3-relu-valid,C-25-3-relu-valid,F       5.0           0.001592  0.016449   \nC-25-3-relu-valid,F                         3.0           0.001785  0.017601   \n                                            5.0           0.001647  0.016887   \nC-25-3-sigmoid-valid,C-25-3-sigmoid-valid,F 5.0           0.001065  0.016387   \nC-25-3-sigmoid-valid,F                      3.0           0.001765  0.016983   \n                                            5.0           0.000843  0.017985   \nC-25-5-relu-valid,F                         5.0           0.001793  0.017860   \nC-25-5-sigmoid-valid,F                      5.0           0.001700  0.017549   \nC-50-3-relu-valid,C-50-3-relu-valid,F       5.0           0.000910  0.016256   \nC-50-3-relu-valid,F                         3.0           0.001624  0.017945   \n                                            5.0           0.001240  0.017238   \nC-50-3-sigmoid-valid,C-50-3-sigmoid-valid,F 5.0           0.000941  0.015564   \nC-50-3-sigmoid-valid,F                      3.0           0.001486  0.017207   \n                                            5.0           0.001090  0.017097   \nC-50-5-relu-valid,F                         5.0           0.001850  0.017650   \nC-50-5-sigmoid-valid,F                      5.0           0.001434  0.017143   \n\n                                                         mse_valid            \\\n                                                              mean       std   \nmodel_def                                   phantom_size                       \nC-10-3-relu-valid,C-10-3-relu-valid,F       5.0           0.000527  0.000068   \nC-10-3-relu-valid,F                         3.0           0.000689  0.000206   \n                                            5.0           0.000604  0.000132   \nC-10-3-sigmoid-valid,C-10-3-sigmoid-valid,F 5.0           0.000488  0.000080   \nC-10-3-sigmoid-valid,F                      3.0           0.000586  0.000119   \n                                            5.0           0.000588  0.000136   \nC-10-5-relu-valid,F                         5.0           0.000636  0.000132   \nC-10-5-sigmoid-valid,F                      5.0           0.000562  0.000110   \nC-15-3-relu-valid,C-15-3-relu-valid,F       5.0           0.000501  0.000081   \nC-15-3-relu-valid,F                         3.0           0.000681  0.000223   \n                                            5.0           0.000572  0.000074   \nC-15-3-sigmoid-valid,C-15-3-sigmoid-valid,F 5.0           0.000492  0.000102   \nC-15-3-sigmoid-valid,F                      3.0           0.000595  0.000126   \n                                            5.0           0.000563  0.000133   \nC-15-5-relu-valid,F                         5.0           0.000646  0.000164   \nC-15-5-sigmoid-valid,F                      5.0           0.000536  0.000095   \nC-25-3-relu-valid,C-25-3-relu-valid,F       5.0           0.000483  0.000098   \nC-25-3-relu-valid,F                         3.0           0.000589  0.000117   \n                                            5.0           0.000532  0.000116   \nC-25-3-sigmoid-valid,C-25-3-sigmoid-valid,F 5.0           0.000466  0.000067   \nC-25-3-sigmoid-valid,F                      3.0           0.000569  0.000129   \n                                            5.0           0.000588  0.000067   \nC-25-5-relu-valid,F                         5.0           0.000592  0.000126   \nC-25-5-sigmoid-valid,F                      5.0           0.000564  0.000124   \nC-50-3-relu-valid,C-50-3-relu-valid,F       5.0           0.000484  0.000054   \nC-50-3-relu-valid,F                         3.0           0.000578  0.000108   \n                                            5.0           0.000517  0.000089   \nC-50-3-sigmoid-valid,C-50-3-sigmoid-valid,F 5.0           0.000439  0.000063   \nC-50-3-sigmoid-valid,F                      3.0           0.000576  0.000125   \n                                            5.0           0.000545  0.000080   \nC-50-5-relu-valid,F                         5.0           0.000584  0.000123   \nC-50-5-sigmoid-valid,F                      5.0           0.000553  0.000089   \n\n                                                                    \n                                                            median  \nmodel_def                                   phantom_size            \nC-10-3-relu-valid,C-10-3-relu-valid,F       5.0           0.000544  \nC-10-3-relu-valid,F                         3.0           0.000648  \n                                            5.0           0.000609  \nC-10-3-sigmoid-valid,C-10-3-sigmoid-valid,F 5.0           0.000482  \nC-10-3-sigmoid-valid,F                      3.0           0.000584  \n                                            5.0           0.000564  \nC-10-5-relu-valid,F                         5.0           0.000675  \nC-10-5-sigmoid-valid,F                      5.0           0.000556  \nC-15-3-relu-valid,C-15-3-relu-valid,F       5.0           0.000521  \nC-15-3-relu-valid,F                         3.0           0.000664  \n                                            5.0           0.000574  \nC-15-3-sigmoid-valid,C-15-3-sigmoid-valid,F 5.0           0.000460  \nC-15-3-sigmoid-valid,F                      3.0           0.000613  \n                                            5.0           0.000544  \nC-15-5-relu-valid,F                         5.0           0.000593  \nC-15-5-sigmoid-valid,F                      5.0           0.000526  \nC-25-3-relu-valid,C-25-3-relu-valid,F       5.0           0.000470  \nC-25-3-relu-valid,F                         3.0           0.000588  \n                                            5.0           0.000520  \nC-25-3-sigmoid-valid,C-25-3-sigmoid-valid,F 5.0           0.000482  \nC-25-3-sigmoid-valid,F                      3.0           0.000577  \n                                            5.0           0.000579  \nC-25-5-relu-valid,F                         5.0           0.000582  \nC-25-5-sigmoid-valid,F                      5.0           0.000588  \nC-50-3-relu-valid,C-50-3-relu-valid,F       5.0           0.000475  \nC-50-3-relu-valid,F                         3.0           0.000563  \n                                            5.0           0.000543  \nC-50-3-sigmoid-valid,C-50-3-sigmoid-valid,F 5.0           0.000442  \nC-50-3-sigmoid-valid,F                      3.0           0.000576  \n                                            5.0           0.000534  \nC-50-5-relu-valid,F                         5.0           0.000562  \nC-50-5-sigmoid-valid,F                      5.0           0.000562  ",
      "text/html": "<div>\n<style scoped>\n    .dataframe tbody tr th:only-of-type {\n        vertical-align: middle;\n    }\n\n    .dataframe tbody tr th {\n        vertical-align: top;\n    }\n\n    .dataframe thead tr th {\n        text-align: left;\n    }\n\n    .dataframe thead tr:last-of-type th {\n        text-align: right;\n    }\n</style>\n<table border=\"1\" class=\"dataframe\">\n  <thead>\n    <tr>\n      <th></th>\n      <th></th>\n      <th colspan=\"3\" halign=\"left\">ig_max_valid</th>\n      <th colspan=\"3\" halign=\"left\">ig_mean_valid</th>\n      <th colspan=\"3\" halign=\"left\">mse_valid</th>\n    </tr>\n    <tr>\n      <th></th>\n      <th></th>\n      <th>mean</th>\n      <th>std</th>\n      <th>median</th>\n      <th>mean</th>\n      <th>std</th>\n      <th>median</th>\n      <th>mean</th>\n      <th>std</th>\n      <th>median</th>\n    </tr>\n    <tr>\n      <th>model_def</th>\n      <th>phantom_size</th>\n      <th></th>\n      <th></th>\n      <th></th>\n      <th></th>\n      <th></th>\n      <th></th>\n      <th></th>\n      <th></th>\n      <th></th>\n    </tr>\n  </thead>\n  <tbody>\n    <tr>\n      <th>C-10-3-relu-valid,C-10-3-relu-valid,F</th>\n      <th>5.0</th>\n      <td>0.299669</td>\n      <td>0.087406</td>\n      <td>0.320398</td>\n      <td>0.016933</td>\n      <td>0.000687</td>\n      <td>0.017111</td>\n      <td>0.000527</td>\n      <td>0.000068</td>\n      <td>0.000544</td>\n    </tr>\n    <tr>\n      <th rowspan=\"2\" valign=\"top\">C-10-3-relu-valid,F</th>\n      <th>3.0</th>\n      <td>0.324549</td>\n      <td>0.084814</td>\n      <td>0.323633</td>\n      <td>0.018621</td>\n      <td>0.002061</td>\n      <td>0.018420</td>\n      <td>0.000689</td>\n      <td>0.000206</td>\n      <td>0.000648</td>\n    </tr>\n    <tr>\n      <th>5.0</th>\n      <td>0.310608</td>\n      <td>0.085954</td>\n      <td>0.321780</td>\n      <td>0.018081</td>\n      <td>0.001780</td>\n      <td>0.017978</td>\n      <td>0.000604</td>\n      <td>0.000132</td>\n      <td>0.000609</td>\n    </tr>\n    <tr>\n      <th>C-10-3-sigmoid-valid,C-10-3-sigmoid-valid,F</th>\n      <th>5.0</th>\n      <td>0.284301</td>\n      <td>0.072453</td>\n      <td>0.300132</td>\n      <td>0.016414</td>\n      <td>0.001191</td>\n      <td>0.016209</td>\n      <td>0.000488</td>\n      <td>0.000080</td>\n      <td>0.000482</td>\n    </tr>\n    <tr>\n      <th rowspan=\"2\" valign=\"top\">C-10-3-sigmoid-valid,F</th>\n      <th>3.0</th>\n      <td>0.291812</td>\n      <td>0.081829</td>\n      <td>0.312518</td>\n      <td>0.017508</td>\n      <td>0.001272</td>\n      <td>0.017302</td>\n      <td>0.000586</td>\n      <td>0.000119</td>\n      <td>0.000584</td>\n    </tr>\n    <tr>\n      <th>5.0</th>\n      <td>0.313462</td>\n      <td>0.092333</td>\n      <td>0.332465</td>\n      <td>0.017741</td>\n      <td>0.001802</td>\n      <td>0.017081</td>\n      <td>0.000588</td>\n      <td>0.000136</td>\n      <td>0.000564</td>\n    </tr>\n    <tr>\n      <th>C-10-5-relu-valid,F</th>\n      <th>5.0</th>\n      <td>0.304839</td>\n      <td>0.074567</td>\n      <td>0.329762</td>\n      <td>0.018606</td>\n      <td>0.001776</td>\n      <td>0.019393</td>\n      <td>0.000636</td>\n      <td>0.000132</td>\n      <td>0.000675</td>\n    </tr>\n    <tr>\n      <th>C-10-5-sigmoid-valid,F</th>\n      <th>5.0</th>\n      <td>0.309827</td>\n      <td>0.084064</td>\n      <td>0.311352</td>\n      <td>0.017222</td>\n      <td>0.001291</td>\n      <td>0.017228</td>\n      <td>0.000562</td>\n      <td>0.000110</td>\n      <td>0.000556</td>\n    </tr>\n    <tr>\n      <th>C-15-3-relu-valid,C-15-3-relu-valid,F</th>\n      <th>5.0</th>\n      <td>0.276457</td>\n      <td>0.068310</td>\n      <td>0.284423</td>\n      <td>0.016751</td>\n      <td>0.001458</td>\n      <td>0.016703</td>\n      <td>0.000501</td>\n      <td>0.000081</td>\n      <td>0.000521</td>\n    </tr>\n    <tr>\n      <th rowspan=\"2\" valign=\"top\">C-15-3-relu-valid,F</th>\n      <th>3.0</th>\n      <td>0.288449</td>\n      <td>0.075780</td>\n      <td>0.290756</td>\n      <td>0.018930</td>\n      <td>0.002759</td>\n      <td>0.018874</td>\n      <td>0.000681</td>\n      <td>0.000223</td>\n      <td>0.000664</td>\n    </tr>\n    <tr>\n      <th>5.0</th>\n      <td>0.297855</td>\n      <td>0.081476</td>\n      <td>0.295248</td>\n      <td>0.017742</td>\n      <td>0.001025</td>\n      <td>0.017722</td>\n      <td>0.000572</td>\n      <td>0.000074</td>\n      <td>0.000574</td>\n    </tr>\n    <tr>\n      <th>C-15-3-sigmoid-valid,C-15-3-sigmoid-valid,F</th>\n      <th>5.0</th>\n      <td>0.275681</td>\n      <td>0.070468</td>\n      <td>0.270719</td>\n      <td>0.016492</td>\n      <td>0.001577</td>\n      <td>0.015998</td>\n      <td>0.000492</td>\n      <td>0.000102</td>\n      <td>0.000460</td>\n    </tr>\n    <tr>\n      <th rowspan=\"2\" valign=\"top\">C-15-3-sigmoid-valid,F</th>\n      <th>3.0</th>\n      <td>0.287962</td>\n      <td>0.085514</td>\n      <td>0.304237</td>\n      <td>0.017727</td>\n      <td>0.001488</td>\n      <td>0.017539</td>\n      <td>0.000595</td>\n      <td>0.000126</td>\n      <td>0.000613</td>\n    </tr>\n    <tr>\n      <th>5.0</th>\n      <td>0.305602</td>\n      <td>0.095199</td>\n      <td>0.303558</td>\n      <td>0.017470</td>\n      <td>0.001912</td>\n      <td>0.016910</td>\n      <td>0.000563</td>\n      <td>0.000133</td>\n      <td>0.000544</td>\n    </tr>\n    <tr>\n      <th>C-15-5-relu-valid,F</th>\n      <th>5.0</th>\n      <td>0.301777</td>\n      <td>0.082657</td>\n      <td>0.314247</td>\n      <td>0.018963</td>\n      <td>0.002237</td>\n      <td>0.018250</td>\n      <td>0.000646</td>\n      <td>0.000164</td>\n      <td>0.000593</td>\n    </tr>\n    <tr>\n      <th>C-15-5-sigmoid-valid,F</th>\n      <th>5.0</th>\n      <td>0.302920</td>\n      <td>0.077750</td>\n      <td>0.313415</td>\n      <td>0.016947</td>\n      <td>0.001222</td>\n      <td>0.017428</td>\n      <td>0.000536</td>\n      <td>0.000095</td>\n      <td>0.000526</td>\n    </tr>\n    <tr>\n      <th>C-25-3-relu-valid,C-25-3-relu-valid,F</th>\n      <th>5.0</th>\n      <td>0.251965</td>\n      <td>0.063215</td>\n      <td>0.271346</td>\n      <td>0.016585</td>\n      <td>0.001592</td>\n      <td>0.016449</td>\n      <td>0.000483</td>\n      <td>0.000098</td>\n      <td>0.000470</td>\n    </tr>\n    <tr>\n      <th rowspan=\"2\" valign=\"top\">C-25-3-relu-valid,F</th>\n      <th>3.0</th>\n      <td>0.282944</td>\n      <td>0.067488</td>\n      <td>0.302622</td>\n      <td>0.017836</td>\n      <td>0.001785</td>\n      <td>0.017601</td>\n      <td>0.000589</td>\n      <td>0.000117</td>\n      <td>0.000588</td>\n    </tr>\n    <tr>\n      <th>5.0</th>\n      <td>0.287415</td>\n      <td>0.085600</td>\n      <td>0.298487</td>\n      <td>0.016989</td>\n      <td>0.001647</td>\n      <td>0.016887</td>\n      <td>0.000532</td>\n      <td>0.000116</td>\n      <td>0.000520</td>\n    </tr>\n    <tr>\n      <th>C-25-3-sigmoid-valid,C-25-3-sigmoid-valid,F</th>\n      <th>5.0</th>\n      <td>0.272152</td>\n      <td>0.063731</td>\n      <td>0.300221</td>\n      <td>0.016194</td>\n      <td>0.001065</td>\n      <td>0.016387</td>\n      <td>0.000466</td>\n      <td>0.000067</td>\n      <td>0.000482</td>\n    </tr>\n    <tr>\n      <th rowspan=\"2\" valign=\"top\">C-25-3-sigmoid-valid,F</th>\n      <th>3.0</th>\n      <td>0.296784</td>\n      <td>0.078880</td>\n      <td>0.320697</td>\n      <td>0.017255</td>\n      <td>0.001765</td>\n      <td>0.016983</td>\n      <td>0.000569</td>\n      <td>0.000129</td>\n      <td>0.000577</td>\n    </tr>\n    <tr>\n      <th>5.0</th>\n      <td>0.302478</td>\n      <td>0.092370</td>\n      <td>0.309366</td>\n      <td>0.018002</td>\n      <td>0.000843</td>\n      <td>0.017985</td>\n      <td>0.000588</td>\n      <td>0.000067</td>\n      <td>0.000579</td>\n    </tr>\n    <tr>\n      <th>C-25-5-relu-valid,F</th>\n      <th>5.0</th>\n      <td>0.302182</td>\n      <td>0.083982</td>\n      <td>0.316487</td>\n      <td>0.017980</td>\n      <td>0.001793</td>\n      <td>0.017860</td>\n      <td>0.000592</td>\n      <td>0.000126</td>\n      <td>0.000582</td>\n    </tr>\n    <tr>\n      <th>C-25-5-sigmoid-valid,F</th>\n      <th>5.0</th>\n      <td>0.303393</td>\n      <td>0.077999</td>\n      <td>0.311079</td>\n      <td>0.017457</td>\n      <td>0.001700</td>\n      <td>0.017549</td>\n      <td>0.000564</td>\n      <td>0.000124</td>\n      <td>0.000588</td>\n    </tr>\n    <tr>\n      <th>C-50-3-relu-valid,C-50-3-relu-valid,F</th>\n      <th>5.0</th>\n      <td>0.276533</td>\n      <td>0.068077</td>\n      <td>0.281699</td>\n      <td>0.016528</td>\n      <td>0.000910</td>\n      <td>0.016256</td>\n      <td>0.000484</td>\n      <td>0.000054</td>\n      <td>0.000475</td>\n    </tr>\n    <tr>\n      <th rowspan=\"2\" valign=\"top\">C-50-3-relu-valid,F</th>\n      <th>3.0</th>\n      <td>0.270527</td>\n      <td>0.064904</td>\n      <td>0.283188</td>\n      <td>0.017791</td>\n      <td>0.001624</td>\n      <td>0.017945</td>\n      <td>0.000578</td>\n      <td>0.000108</td>\n      <td>0.000563</td>\n    </tr>\n    <tr>\n      <th>5.0</th>\n      <td>0.282089</td>\n      <td>0.082002</td>\n      <td>0.290448</td>\n      <td>0.016927</td>\n      <td>0.001240</td>\n      <td>0.017238</td>\n      <td>0.000517</td>\n      <td>0.000089</td>\n      <td>0.000543</td>\n    </tr>\n    <tr>\n      <th>C-50-3-sigmoid-valid,C-50-3-sigmoid-valid,F</th>\n      <th>5.0</th>\n      <td>0.271588</td>\n      <td>0.067932</td>\n      <td>0.288279</td>\n      <td>0.015656</td>\n      <td>0.000941</td>\n      <td>0.015564</td>\n      <td>0.000439</td>\n      <td>0.000063</td>\n      <td>0.000442</td>\n    </tr>\n    <tr>\n      <th rowspan=\"2\" valign=\"top\">C-50-3-sigmoid-valid,F</th>\n      <th>3.0</th>\n      <td>0.293388</td>\n      <td>0.082691</td>\n      <td>0.311371</td>\n      <td>0.017415</td>\n      <td>0.001486</td>\n      <td>0.017207</td>\n      <td>0.000576</td>\n      <td>0.000125</td>\n      <td>0.000576</td>\n    </tr>\n    <tr>\n      <th>5.0</th>\n      <td>0.300167</td>\n      <td>0.088046</td>\n      <td>0.299352</td>\n      <td>0.017284</td>\n      <td>0.001090</td>\n      <td>0.017097</td>\n      <td>0.000545</td>\n      <td>0.000080</td>\n      <td>0.000534</td>\n    </tr>\n    <tr>\n      <th>C-50-5-relu-valid,F</th>\n      <th>5.0</th>\n      <td>0.300778</td>\n      <td>0.078786</td>\n      <td>0.318917</td>\n      <td>0.017872</td>\n      <td>0.001850</td>\n      <td>0.017650</td>\n      <td>0.000584</td>\n      <td>0.000123</td>\n      <td>0.000562</td>\n    </tr>\n    <tr>\n      <th>C-50-5-sigmoid-valid,F</th>\n      <th>5.0</th>\n      <td>0.296331</td>\n      <td>0.082534</td>\n      <td>0.310750</td>\n      <td>0.017427</td>\n      <td>0.001434</td>\n      <td>0.017143</td>\n      <td>0.000553</td>\n      <td>0.000089</td>\n      <td>0.000562</td>\n    </tr>\n  </tbody>\n</table>\n</div>"
     },
     "execution_count": 26,
     "metadata": {},
     "output_type": "execute_result"
    }
   ],
   "source": [
    "df[['model_def', 'phantom_size', 'Information Gain valid', 'Information Gain valid.1', 'epoch_loss.1']].rename(columns={\n",
    "     'Information Gain valid': 'ig_max_valid',\n",
    "     'Information Gain valid.1': 'ig_mean_valid',\n",
    "     'epoch_loss.1': 'mse_valid'\n",
    "}).groupby(['model_def', 'phantom_size']).agg(['mean', 'std', 'median'])"
   ],
   "metadata": {
    "collapsed": false,
    "pycharm": {
     "name": "#%%\n"
    }
   }
  },
  {
   "cell_type": "code",
   "execution_count": null,
   "outputs": [],
   "source": [],
   "metadata": {
    "collapsed": false,
    "pycharm": {
     "name": "#%%\n"
    }
   }
  }
 ],
 "metadata": {
  "kernelspec": {
   "display_name": "Python 3",
   "language": "python",
   "name": "python3"
  },
  "language_info": {
   "codemirror_mode": {
    "name": "ipython",
    "version": 2
   },
   "file_extension": ".py",
   "mimetype": "text/x-python",
   "name": "python",
   "nbconvert_exporter": "python",
   "pygments_lexer": "ipython2",
   "version": "2.7.6"
  }
 },
 "nbformat": 4,
 "nbformat_minor": 0
}