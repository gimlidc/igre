{
 "cells": [
  {
   "cell_type": "code",
   "execution_count": 11,
   "outputs": [
    {
     "data": {
      "text/plain": "'0_phantom_3_3'"
     },
     "execution_count": 11,
     "metadata": {},
     "output_type": "execute_result"
    }
   ],
   "source": [
    "\n",
    "class IgreInputCallbacks(tf.keras.callbacks.Callback):\n",
    "    def __init__(self, input_image, target_image):\n",
    "        assert int(tf.__version__[0]) == 2, \"Tensorboard logging only for tf 2\"\n",
    "        super(IgreInputCallbacks, self).__init__()\n",
    "        # Create batch dimension expects [width, height, channels]\n",
    "        self.inputs = np.expand_dims(input_image, 0)\n",
    "        self.target = tf.convert_to_tensor(np.expand_dims(target_image, 0), tf.double)\n",
    "        self.flatten_input = None\n",
    "\n",
    "    def on_train_begin(self, logs=None):\n",
    "        # NOTE: Workaround for only dense network\n",
    "        if len(self.model.input_shape) == 2:\n",
    "            self.flatten_input = self.inputs.reshape(\n",
    "                (self.inputs.shape[1] * self.inputs.shape[2], self.inputs.shape[-1]))\n",
    "\n",
    "    def _predict(self):\n",
    "        # TODO: This workaround is slow\n",
    "        assert self.model is not None\n",
    "        if self.flatten_input is None:\n",
    "            return self.model.predict(self.inputs)\n",
    "        else:\n",
    "            return self.model.predict(self.flatten_input).reshape(self.target.shape)\n",
    "\n",
    "\n",
    "class InformationGainCallback(IgreInputCallbacks):\n",
    "    def __init__(self, input_image, target_image, logdir, name='gain'):\n",
    "        assert int(tf.__version__[0]) == 2, \"Tensorboard logging only for tf 2\"\n",
    "        super(InformationGainCallback, self).__init__(input_image, target_image)\n",
    "        self.outputs = tf.reshape(self.target, self.target.shape[1:])\n",
    "        self.max_file_writer = tf.summary.create_file_writer(f\"{logdir}/{name}/max\")\n",
    "        self.mean_file_writer = tf.summary.create_file_writer(f\"{logdir}/{name}/mean\")\n",
    "        self._name = name\n",
    "\n",
    "    def gain(self):\n",
    "        # calculate gain and print it out\n",
    "        gain = abs(self.outputs - self._predict()) / (np.prod(self.outputs.shape[0]))\n",
    "        return gain\n",
    "\n",
    "    def gain_max(self):\n",
    "        return np.amax(self.gain())\n",
    "\n",
    "    def gain_mean(self):\n",
    "        return np.mean(self.gain())\n",
    "\n",
    "    def on_epoch_end(self, epoch, logs=None):\n",
    "        with self.max_file_writer.as_default():\n",
    "            tf.summary.scalar(f'Information Gain {self._name}', data=self.gain_max(), step=epoch)\n",
    "        with self.mean_file_writer.as_default():\n",
    "            tf.summary.scalar(f'Information Gain {self._name}', data=self.gain_mean(), step=epoch)"
   ],
   "metadata": {
    "collapsed": false,
    "pycharm": {
     "name": "#%%\n"
    }
   }
  },
  {
   "cell_type": "code",
   "execution_count": null,
   "outputs": [],
   "source": [],
   "metadata": {
    "collapsed": false,
    "pycharm": {
     "name": "#%%\n"
    }
   }
  }
 ],
 "metadata": {
  "kernelspec": {
   "display_name": "Python 3",
   "language": "python",
   "name": "python3"
  },
  "language_info": {
   "codemirror_mode": {
    "name": "ipython",
    "version": 2
   },
   "file_extension": ".py",
   "mimetype": "text/x-python",
   "name": "python",
   "nbconvert_exporter": "python",
   "pygments_lexer": "ipython2",
   "version": "2.7.6"
  }
 },
 "nbformat": 4,
 "nbformat_minor": 0
}