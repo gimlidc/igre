{
 "cells": [
  {
   "cell_type": "code",
   "execution_count": 2,
   "metadata": {
    "collapsed": true
   },
   "outputs": [],
   "source": [
    "import tensorflow as tf\n",
    "from tensorboard.plugins.hparams import api as hp\n",
    "import os\n",
    "import numpy as np\n",
    "\n",
    "import matplotlib.pyplot as plt\n",
    "from src.models.ig_cnn import ig_cnn_model, get_cnn_dataset\n",
    "from src.tftools.callbacks.t2_callbacks import InformationGainCallback, ImagesCallback"
   ]
  },
  {
   "cell_type": "markdown",
   "source": [
    "* [How connect spectrum](www.fourmilab.ch/documents/specrend/)\n",
    "* [Python library](https://python-colormath.readthedocs.io/en/latest/color_objects.html#spectralcolor)"
   ],
   "metadata": {
    "collapsed": false,
    "pycharm": {
     "name": "#%% md\n"
    }
   }
  },
  {
   "cell_type": "code",
   "execution_count": 3,
   "outputs": [],
   "source": [
    "hparams = {\n",
    "    'image_path' : '../data/raw/still_life/sample_22.mat',\n",
    "    'model_def'  : 'C-25-3-sigmoid-valid,C-25-1-sigmoid-same',\n",
    "    'input_size' : 3 ,\n",
    "    'log_name' : 'C3'\n",
    "}"
   ],
   "metadata": {
    "collapsed": false,
    "pycharm": {
     "name": "#%%\n"
    }
   }
  },
  {
   "cell_type": "code",
   "execution_count": 4,
   "outputs": [
    {
     "ename": "NameError",
     "evalue": "name 'wavelength2rgb' is not defined",
     "output_type": "error",
     "traceback": [
      "\u001B[1;31m---------------------------------------------------------------------------\u001B[0m",
      "\u001B[1;31mNameError\u001B[0m                                 Traceback (most recent call last)",
      "\u001B[1;32m<ipython-input-4-c19df1e6d6ab>\u001B[0m in \u001B[0;36m<module>\u001B[1;34m\u001B[0m\n\u001B[0;32m     26\u001B[0m              ImagesCallback(input_image=nopad_input,\n\u001B[0;32m     27\u001B[0m                             \u001B[0mtarget_image\u001B[0m\u001B[1;33m=\u001B[0m\u001B[0mpad_output\u001B[0m\u001B[1;33m,\u001B[0m\u001B[1;33m\u001B[0m\u001B[1;33m\u001B[0m\u001B[0m\n\u001B[1;32m---> 28\u001B[1;33m                             logdir=logdir),\n\u001B[0m\u001B[0;32m     29\u001B[0m              \u001B[0mhp\u001B[0m\u001B[1;33m.\u001B[0m\u001B[0mKerasCallback\u001B[0m\u001B[1;33m(\u001B[0m\u001B[0mlogdir\u001B[0m\u001B[1;33m,\u001B[0m\u001B[0mhparams\u001B[0m\u001B[1;33m)\u001B[0m\u001B[1;33m,\u001B[0m\u001B[1;33m\u001B[0m\u001B[1;33m\u001B[0m\u001B[0m\n\u001B[0;32m     30\u001B[0m              \u001B[1;31m# NOTE: This callback has to be last\u001B[0m\u001B[1;33m\u001B[0m\u001B[1;33m\u001B[0m\u001B[1;33m\u001B[0m\u001B[0m\n",
      "\u001B[1;32m~\\Desktop\\igre\\src\\tftools\\callbacks\\t2_callbacks.py\u001B[0m in \u001B[0;36m__init__\u001B[1;34m(self, input_image, target_image, logdir)\u001B[0m\n\u001B[0;32m     40\u001B[0m         \u001B[0mgain\u001B[0m \u001B[1;33m=\u001B[0m \u001B[0mabs\u001B[0m\u001B[1;33m(\u001B[0m\u001B[0mself\u001B[0m\u001B[1;33m.\u001B[0m\u001B[0moutputs\u001B[0m \u001B[1;33m-\u001B[0m \u001B[0mself\u001B[0m\u001B[1;33m.\u001B[0m\u001B[0m_predict\u001B[0m\u001B[1;33m(\u001B[0m\u001B[1;33m)\u001B[0m\u001B[1;33m)\u001B[0m \u001B[1;33m/\u001B[0m \u001B[1;33m(\u001B[0m\u001B[0mself\u001B[0m\u001B[1;33m.\u001B[0m\u001B[0moutputs\u001B[0m\u001B[1;33m.\u001B[0m\u001B[0mshape\u001B[0m\u001B[1;33m[\u001B[0m\u001B[1;36m0\u001B[0m\u001B[1;33m]\u001B[0m \u001B[1;33m*\u001B[0m \u001B[0mself\u001B[0m\u001B[1;33m.\u001B[0m\u001B[0moutputs\u001B[0m\u001B[1;33m.\u001B[0m\u001B[0mshape\u001B[0m\u001B[1;33m[\u001B[0m\u001B[1;36m1\u001B[0m\u001B[1;33m]\u001B[0m\u001B[1;33m)\u001B[0m\u001B[1;33m\u001B[0m\u001B[1;33m\u001B[0m\u001B[0m\n\u001B[0;32m     41\u001B[0m         \u001B[1;32mreturn\u001B[0m \u001B[0mgain\u001B[0m\u001B[1;33m\u001B[0m\u001B[1;33m\u001B[0m\u001B[0m\n\u001B[1;32m---> 42\u001B[1;33m \u001B[1;33m\u001B[0m\u001B[0m\n\u001B[0m\u001B[0;32m     43\u001B[0m     \u001B[1;32mdef\u001B[0m \u001B[0mgain_max\u001B[0m\u001B[1;33m(\u001B[0m\u001B[0mself\u001B[0m\u001B[1;33m)\u001B[0m\u001B[1;33m:\u001B[0m\u001B[1;33m\u001B[0m\u001B[1;33m\u001B[0m\u001B[0m\n\u001B[0;32m     44\u001B[0m         \u001B[1;32mreturn\u001B[0m \u001B[0mself\u001B[0m\u001B[1;33m.\u001B[0m\u001B[0mgain\u001B[0m\u001B[1;33m(\u001B[0m\u001B[1;33m)\u001B[0m\u001B[1;33m.\u001B[0m\u001B[0mflatten\u001B[0m\u001B[1;33m(\u001B[0m\u001B[1;33m)\u001B[0m\u001B[1;33m.\u001B[0m\u001B[0mmax\u001B[0m\u001B[1;33m(\u001B[0m\u001B[1;33m)\u001B[0m\u001B[1;33m\u001B[0m\u001B[1;33m\u001B[0m\u001B[0m\n",
      "\u001B[1;31mNameError\u001B[0m: name 'wavelength2rgb' is not defined"
     ]
    }
   ],
   "source": [
    "# Parameters\n",
    "logdir = os.path.join('..', 'logs', hparams['log_name'])\n",
    "\n",
    "\n",
    "# Input Data\n",
    "inputs, outputs, pad_output, nopad_input = get_cnn_dataset(hparams['image_path'],\n",
    "                                                           input_size=hparams['input_size'])\n",
    "# Model Definition\n",
    "model = ig_cnn_model(hparams['model_def'])\n",
    "model.compile(optimizer='adam',\n",
    "              loss='mean_squared_error',\n",
    "              metrics=['mean_squared_error'])\n",
    "\n",
    "# Data split\n",
    "training_set_size = 2500\n",
    "perm = np.random.permutation(inputs.shape[0])\n",
    "ins = inputs[perm[:training_set_size], :]\n",
    "outs = outputs[perm[:training_set_size], :]\n",
    "\n",
    "# TODO: Check log dir existence\n",
    "\n",
    "callbacks = [tf.keras.callbacks.TensorBoard(log_dir=logdir),\n",
    "             InformationGainCallback(input_image=nopad_input,\n",
    "                                     target_image=pad_output,\n",
    "                                     logdir=logdir),\n",
    "             ImagesCallback(input_image=nopad_input,\n",
    "                            target_image=pad_output,\n",
    "                            logdir=logdir),\n",
    "             hp.KerasCallback(logdir,hparams),\n",
    "             # NOTE: This callback has to be last\n",
    "             tf.keras.callbacks.EarlyStopping(patience=6, min_delta=10 ** -5),\n",
    " ]\n",
    "\n",
    "history = model.fit(ins,\n",
    "                    outs,\n",
    "                    epochs=100,\n",
    "                    validation_split=0.2,\n",
    "                    verbose=1,\n",
    "                    callbacks=callbacks\n",
    "                    )"
   ],
   "metadata": {
    "collapsed": false,
    "pycharm": {
     "name": "#%%\n"
    }
   }
  },
  {
   "cell_type": "code",
   "execution_count": null,
   "outputs": [],
   "source": [],
   "metadata": {
    "collapsed": false,
    "pycharm": {
     "name": "#%%\n"
    }
   }
  },
  {
   "cell_type": "code",
   "execution_count": null,
   "outputs": [],
   "source": [],
   "metadata": {
    "collapsed": false,
    "pycharm": {
     "name": "#%%\n"
    }
   }
  }
 ],
 "metadata": {
  "kernelspec": {
   "display_name": "Python 3",
   "language": "python",
   "name": "python3"
  },
  "language_info": {
   "codemirror_mode": {
    "name": "ipython",
    "version": 2
   },
   "file_extension": ".py",
   "mimetype": "text/x-python",
   "name": "python",
   "nbconvert_exporter": "python",
   "pygments_lexer": "ipython2",
   "version": "2.7.6"
  }
 },
 "nbformat": 4,
 "nbformat_minor": 0
}